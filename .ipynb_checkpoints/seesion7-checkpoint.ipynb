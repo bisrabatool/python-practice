{
 "cells": [
  {
   "cell_type": "markdown",
   "id": "409cb5fc-b318-4082-a17b-9496ac4dbd1a",
   "metadata": {},
   "source": [
    "list methods"
   ]
  },
  {
   "cell_type": "code",
   "execution_count": 1,
   "id": "c172d3fd-ae68-46f2-bf23-e822e587e6b7",
   "metadata": {},
   "outputs": [],
   "source": [
    "name_list = [ \"bisra\", \"moona\",\"saba\",\"humera\",\"bushra\",\"muzammil\"]\n"
   ]
  },
  {
   "cell_type": "code",
   "execution_count": 2,
   "id": "9f7db2b9-037d-4115-b74a-8bd3fa36d698",
   "metadata": {},
   "outputs": [
    {
     "data": {
      "text/plain": [
       "['bisra', 'moona', 'saba', 'humera', 'bushra', 'muzammil']"
      ]
     },
     "execution_count": 2,
     "metadata": {},
     "output_type": "execute_result"
    }
   ],
   "source": [
    "name_list"
   ]
  },
  {
   "cell_type": "markdown",
   "id": "5643d392-ceb6-46b1-b7d6-bf1513425c0d",
   "metadata": {},
   "source": [
    "insert add value in first"
   ]
  },
  {
   "cell_type": "code",
   "execution_count": 3,
   "id": "a572d6b8-475f-418c-9af2-c6cdf0acdfcc",
   "metadata": {},
   "outputs": [],
   "source": [
    "name_list.insert(0,\"hamza\")"
   ]
  },
  {
   "cell_type": "code",
   "execution_count": 4,
   "id": "194a0b2e-b070-46aa-886e-af851ef94653",
   "metadata": {},
   "outputs": [
    {
     "data": {
      "text/plain": [
       "['hamza', 'bisra', 'moona', 'saba', 'humera', 'bushra', 'muzammil']"
      ]
     },
     "execution_count": 4,
     "metadata": {},
     "output_type": "execute_result"
    }
   ],
   "source": [
    "name_list"
   ]
  },
  {
   "cell_type": "raw",
   "id": "d6c45436-0ebc-44e4-b1a8-a03dc57707da",
   "metadata": {},
   "source": [
    "append add value in last"
   ]
  },
  {
   "cell_type": "code",
   "execution_count": 5,
   "id": "2e8a5303-9b37-4bc7-ad53-19916be4479c",
   "metadata": {},
   "outputs": [],
   "source": [
    "name_list.append(\"bisra\")"
   ]
  },
  {
   "cell_type": "code",
   "execution_count": 6,
   "id": "7b97c55f-5392-4e6a-bddc-314c99fd5ab1",
   "metadata": {},
   "outputs": [
    {
     "data": {
      "text/plain": [
       "['hamza', 'bisra', 'moona', 'saba', 'humera', 'bushra', 'muzammil', 'bisra']"
      ]
     },
     "execution_count": 6,
     "metadata": {},
     "output_type": "execute_result"
    }
   ],
   "source": [
    "name_list"
   ]
  },
  {
   "cell_type": "code",
   "execution_count": 7,
   "id": "c25edc0f-5727-4f4f-8157-3f98e1ee9cb6",
   "metadata": {},
   "outputs": [],
   "source": [
    "name_list.reverse()\n"
   ]
  },
  {
   "cell_type": "code",
   "execution_count": 8,
   "id": "33a8234a-5043-4ddd-8e70-fc5a7bd87a39",
   "metadata": {},
   "outputs": [
    {
     "data": {
      "text/plain": [
       "['bisra', 'muzammil', 'bushra', 'humera', 'saba', 'moona', 'bisra', 'hamza']"
      ]
     },
     "execution_count": 8,
     "metadata": {},
     "output_type": "execute_result"
    }
   ],
   "source": [
    "name_list"
   ]
  },
  {
   "cell_type": "markdown",
   "id": "f4ac6d4f-4ad2-473f-8d87-87428c6943ca",
   "metadata": {},
   "source": [
    "remove one from anywhere"
   ]
  },
  {
   "cell_type": "code",
   "execution_count": 11,
   "id": "96a5c612-2876-4ef0-94c1-5be2b4db248d",
   "metadata": {},
   "outputs": [],
   "source": [
    "name_list.remove (\"bushra\")"
   ]
  },
  {
   "cell_type": "code",
   "execution_count": 12,
   "id": "5ce933f2-5caf-4a38-b944-f9256c023b1f",
   "metadata": {},
   "outputs": [
    {
     "data": {
      "text/plain": [
       "['bisra', 'muzammil', 'humera', 'saba', 'moona', 'bisra', 'hamza']"
      ]
     },
     "execution_count": 12,
     "metadata": {},
     "output_type": "execute_result"
    }
   ],
   "source": [
    "name_list"
   ]
  },
  {
   "cell_type": "markdown",
   "id": "c89e081d-083c-4ba1-8ee6-421a96cef313",
   "metadata": {},
   "source": [
    "copy method"
   ]
  },
  {
   "cell_type": "code",
   "execution_count": 19,
   "id": "866bbf54-0998-4408-ac24-16c0f6c83c2c",
   "metadata": {},
   "outputs": [
    {
     "data": {
      "text/plain": [
       "['bisra', 'muzammil', 'humera', 'saba', 'moona', 'bisra', 'hamza']"
      ]
     },
     "execution_count": 19,
     "metadata": {},
     "output_type": "execute_result"
    }
   ],
   "source": [
    "name_list.copy()"
   ]
  },
  {
   "cell_type": "markdown",
   "id": "a250c4f2-350e-46d3-9c4b-2af58d59c962",
   "metadata": {},
   "source": [
    "assingment"
   ]
  },
  {
   "cell_type": "code",
   "execution_count": 1,
   "id": "ac665dd0-48ce-4edb-936c-9f5ffdfd2de2",
   "metadata": {},
   "outputs": [],
   "source": [
    "guest_list = [\"Alina\", \"Esha\", \"Soha\", \"Moona\", \"Bushra\", \"Rehan\"]"
   ]
  },
  {
   "cell_type": "code",
   "execution_count": 5,
   "id": "b5929176-6b1c-4404-8388-3aa66ca18503",
   "metadata": {},
   "outputs": [
    {
     "name": "stdout",
     "output_type": "stream",
     "text": [
      "Dear Alina, you are invited to dinner.\n",
      "Dear Esha, you are invited to dinner.\n",
      "Dear Soha, you are invited to dinner.\n",
      "Dear Moona, you are invited to dinner.\n",
      "Dear Bushra, you are invited to dinner.\n",
      "Dear Rehan, you are invited to dinner.\n"
     ]
    }
   ],
   "source": [
    "for guest in guest_list:\n",
    "   print(\"Dear \" + guest + \", you are invited to dinner.\")"
   ]
  },
  {
   "cell_type": "code",
   "execution_count": 6,
   "id": "4dc8f9b6-86b8-4ba2-93bf-23e5e46961fd",
   "metadata": {},
   "outputs": [],
   "source": [
    "guest_list = [\"Alina\", \"Esha\", \"Soha\", \"Moona\", \"Bushra\", \"Rehan\"]"
   ]
  },
  {
   "cell_type": "code",
   "execution_count": 9,
   "id": "3a651321-8601-4859-b13e-eddbf6f860e7",
   "metadata": {},
   "outputs": [
    {
     "name": "stdout",
     "output_type": "stream",
     "text": [
      "Unfortunately for some reoson, Rehan can't make it to dinner.\n"
     ]
    }
   ],
   "source": [
    "print(\"Unfortunately for some reoson, \" + guest_list[5] + \" can't make it to dinner.\")\n"
   ]
  },
  {
   "cell_type": "code",
   "execution_count": 10,
   "id": "717e5d25-3870-4356-9570-cdae9799d42c",
   "metadata": {},
   "outputs": [],
   "source": [
    "guest_list[5] = \"zara\""
   ]
  },
  {
   "cell_type": "code",
   "execution_count": 11,
   "id": "7f6beb12-55b3-458d-a6eb-97f661facf30",
   "metadata": {},
   "outputs": [
    {
     "data": {
      "text/plain": [
       "['Alina', 'Esha', 'Soha', 'Moona', 'Bushra', 'zara']"
      ]
     },
     "execution_count": 11,
     "metadata": {},
     "output_type": "execute_result"
    }
   ],
   "source": [
    "guest_list"
   ]
  },
  {
   "cell_type": "code",
   "execution_count": 12,
   "id": "9f6297c5-5343-4860-a04f-8fe5851ca4b6",
   "metadata": {},
   "outputs": [
    {
     "name": "stdout",
     "output_type": "stream",
     "text": [
      "Dear Alina, you are still invited to dinner at my place.\n",
      "Dear Esha, you are still invited to dinner at my place.\n",
      "Dear Soha, you are still invited to dinner at my place.\n",
      "Dear Moona, you are still invited to dinner at my place.\n",
      "Dear Bushra, you are still invited to dinner at my place.\n",
      "Dear zara, you are still invited to dinner at my place.\n"
     ]
    }
   ],
   "source": [
    "for guest in guest_list:\n",
    "   print(\"Dear \" + guest + \", you are still invited to dinner at my place.\")"
   ]
  },
  {
   "cell_type": "code",
   "execution_count": 13,
   "id": "82e25bee-71c7-4cb8-b5a6-f114795ef02f",
   "metadata": {},
   "outputs": [
    {
     "name": "stdout",
     "output_type": "stream",
     "text": [
      "guys i have greate news! We found a bigger dinner table, so we can invite more guests.\n"
     ]
    }
   ],
   "source": [
    "print(\"guys i have greate news! We found a bigger dinner table, so we can invite more guests.\")"
   ]
  },
  {
   "cell_type": "code",
   "execution_count": 14,
   "id": "7005908d-aaee-4ecd-8b40-b25ef6e35d87",
   "metadata": {},
   "outputs": [],
   "source": [
    "guest_list.insert(0, \"Hina\")"
   ]
  },
  {
   "cell_type": "code",
   "execution_count": 15,
   "id": "e9b062ad-f9de-4042-816b-d0fe8bfcd857",
   "metadata": {},
   "outputs": [
    {
     "data": {
      "text/plain": [
       "['Hina', 'Alina', 'Esha', 'Soha', 'Moona', 'Bushra', 'zara']"
      ]
     },
     "execution_count": 15,
     "metadata": {},
     "output_type": "execute_result"
    }
   ],
   "source": [
    "guest_list"
   ]
  },
  {
   "cell_type": "code",
   "execution_count": 16,
   "id": "eb9989e4-2d93-4e7e-b3aa-6a8260698b02",
   "metadata": {},
   "outputs": [],
   "source": [
    "guest_list.append(\"Tariq\")"
   ]
  },
  {
   "cell_type": "code",
   "execution_count": 17,
   "id": "a715df39-6726-4b3d-ae49-5ac5aa16e0d8",
   "metadata": {},
   "outputs": [
    {
     "data": {
      "text/plain": [
       "['Hina', 'Alina', 'Esha', 'Soha', 'Moona', 'Bushra', 'zara', 'Tariq']"
      ]
     },
     "execution_count": 17,
     "metadata": {},
     "output_type": "execute_result"
    }
   ],
   "source": [
    "guest_list"
   ]
  },
  {
   "cell_type": "code",
   "execution_count": 18,
   "id": "f43699de-9611-42e7-b1c9-210e901d7606",
   "metadata": {},
   "outputs": [],
   "source": [
    "list_length = len(guest_list)\n",
    "guest_list.insert(list_length // 2, \"Ahmed\")"
   ]
  },
  {
   "cell_type": "code",
   "execution_count": 19,
   "id": "8b3b133c-66ee-42c8-b830-5a7293019577",
   "metadata": {},
   "outputs": [
    {
     "data": {
      "text/plain": [
       "['Hina', 'Alina', 'Esha', 'Soha', 'Ahmed', 'Moona', 'Bushra', 'zara', 'Tariq']"
      ]
     },
     "execution_count": 19,
     "metadata": {},
     "output_type": "execute_result"
    }
   ],
   "source": [
    "guest_list\n"
   ]
  },
  {
   "cell_type": "code",
   "execution_count": 20,
   "id": "6bd73581-21eb-46c2-a409-00f41fe18d49",
   "metadata": {},
   "outputs": [
    {
     "name": "stdout",
     "output_type": "stream",
     "text": [
      "Dear Hina, you are invited to dinner at my place!\n",
      "Dear Alina, you are invited to dinner at my place!\n",
      "Dear Esha, you are invited to dinner at my place!\n",
      "Dear Soha, you are invited to dinner at my place!\n",
      "Dear Ahmed, you are invited to dinner at my place!\n",
      "Dear Moona, you are invited to dinner at my place!\n",
      "Dear Bushra, you are invited to dinner at my place!\n",
      "Dear zara, you are invited to dinner at my place!\n",
      "Dear Tariq, you are invited to dinner at my place!\n"
     ]
    }
   ],
   "source": [
    "for guest in guest_list:\n",
    "    print(f\"Dear {guest}, you are invited to dinner at my place!\")"
   ]
  },
  {
   "cell_type": "code",
   "execution_count": 21,
   "id": "99e5d52b-a8eb-43a0-b1cd-c9952b8ce413",
   "metadata": {},
   "outputs": [
    {
     "data": {
      "text/plain": [
       "['Hina', 'Alina', 'Esha', 'Soha', 'Ahmed', 'Moona', 'Bushra', 'zara', 'Tariq']"
      ]
     },
     "execution_count": 21,
     "metadata": {},
     "output_type": "execute_result"
    }
   ],
   "source": [
    "guest_list"
   ]
  },
  {
   "cell_type": "code",
   "execution_count": 22,
   "id": "1bfb58b1-d91a-4f68-8c84-1d45b2c6fe47",
   "metadata": {},
   "outputs": [
    {
     "name": "stdout",
     "output_type": "stream",
     "text": [
      " I'm so sorry unfortunately, our new dinner table won't arrive in time, so I can only invite two people.\n"
     ]
    }
   ],
   "source": [
    "print(\" I'm so sorry unfortunately, our new dinner table won't arrive in time, so I can only invite two people.\")"
   ]
  },
  {
   "cell_type": "code",
   "execution_count": 23,
   "id": "f1754abe-528a-42f2-be93-c4370037b737",
   "metadata": {},
   "outputs": [],
   "source": [
    "removed_guest = guest_list.pop(2)\n"
   ]
  },
  {
   "cell_type": "code",
   "execution_count": 24,
   "id": "5db7587c-8439-48a3-83e5-0b37507600db",
   "metadata": {},
   "outputs": [
    {
     "data": {
      "text/plain": [
       "['Hina', 'Alina', 'Soha', 'Ahmed', 'Moona', 'Bushra', 'zara', 'Tariq']"
      ]
     },
     "execution_count": 24,
     "metadata": {},
     "output_type": "execute_result"
    }
   ],
   "source": [
    "guest_list"
   ]
  },
  {
   "cell_type": "code",
   "execution_count": 25,
   "id": "e601e98e-aba8-4350-bd55-bfe4e4215f22",
   "metadata": {},
   "outputs": [],
   "source": [
    "removed_guest = guest_list.pop(1)\n"
   ]
  },
  {
   "cell_type": "code",
   "execution_count": 26,
   "id": "62c16bf2-919e-44a3-b3d3-afd6e63a52e6",
   "metadata": {},
   "outputs": [
    {
     "data": {
      "text/plain": [
       "['Hina', 'Soha', 'Ahmed', 'Moona', 'Bushra', 'zara', 'Tariq']"
      ]
     },
     "execution_count": 26,
     "metadata": {},
     "output_type": "execute_result"
    }
   ],
   "source": [
    "guest_list"
   ]
  },
  {
   "cell_type": "code",
   "execution_count": 27,
   "id": "59686998-891a-4c71-821f-45194c2bc506",
   "metadata": {},
   "outputs": [],
   "source": [
    "removed_guest = guest_list.pop(4)\n"
   ]
  },
  {
   "cell_type": "code",
   "execution_count": 28,
   "id": "6d5d5ddf-dc03-45c1-be26-5f8c0e5ab194",
   "metadata": {},
   "outputs": [],
   "source": [
    "removed_guest = guest_list.pop(3)\n"
   ]
  },
  {
   "cell_type": "code",
   "execution_count": 29,
   "id": "abc8e0dc-80c3-45a8-84aa-e6d81954e9ea",
   "metadata": {},
   "outputs": [
    {
     "data": {
      "text/plain": [
       "['Hina', 'Soha', 'Ahmed', 'zara', 'Tariq']"
      ]
     },
     "execution_count": 29,
     "metadata": {},
     "output_type": "execute_result"
    }
   ],
   "source": [
    "guest_list"
   ]
  },
  {
   "cell_type": "code",
   "execution_count": 31,
   "id": "90257ec0-f16a-48b8-9e03-f105e5fb6261",
   "metadata": {},
   "outputs": [],
   "source": [
    "removed_guest = guest_list.pop(4)\n"
   ]
  },
  {
   "cell_type": "code",
   "execution_count": 32,
   "id": "2d49e2a4-0091-48dc-b6e8-4df8e1bdb230",
   "metadata": {},
   "outputs": [
    {
     "data": {
      "text/plain": [
       "['Hina', 'Soha', 'Ahmed', 'zara']"
      ]
     },
     "execution_count": 32,
     "metadata": {},
     "output_type": "execute_result"
    }
   ],
   "source": [
    "guest_list"
   ]
  },
  {
   "cell_type": "code",
   "execution_count": 33,
   "id": "9fd832e3-0862-4c2e-a5e5-a7dcb4762da4",
   "metadata": {},
   "outputs": [],
   "source": [
    "removed_guest = guest_list.pop(2)"
   ]
  },
  {
   "cell_type": "code",
   "execution_count": 34,
   "id": "f9da53e1-e6a4-4766-8333-18a4d2e90792",
   "metadata": {},
   "outputs": [],
   "source": [
    "removed_guest = guest_list.pop(1)"
   ]
  },
  {
   "cell_type": "code",
   "execution_count": 35,
   "id": "84a0cc09-68dc-4c64-86eb-09070adbb9f8",
   "metadata": {},
   "outputs": [
    {
     "data": {
      "text/plain": [
       "['Hina', 'zara']"
      ]
     },
     "execution_count": 35,
     "metadata": {},
     "output_type": "execute_result"
    }
   ],
   "source": [
    "guest_list"
   ]
  },
  {
   "cell_type": "code",
   "execution_count": 36,
   "id": "b8b08fda-9489-4c1b-bddf-067f3b9bac8f",
   "metadata": {},
   "outputs": [],
   "source": [
    "del guest_list[0]"
   ]
  },
  {
   "cell_type": "code",
   "execution_count": 37,
   "id": "8454d5c9-688c-49b6-8fc2-b2fa6e05814a",
   "metadata": {},
   "outputs": [
    {
     "data": {
      "text/plain": [
       "['zara']"
      ]
     },
     "execution_count": 37,
     "metadata": {},
     "output_type": "execute_result"
    }
   ],
   "source": [
    "guest_list"
   ]
  },
  {
   "cell_type": "code",
   "execution_count": 38,
   "id": "13d7efd0-056f-4c36-b981-52e99eb05522",
   "metadata": {},
   "outputs": [],
   "source": [
    "del guest_list[0]"
   ]
  },
  {
   "cell_type": "code",
   "execution_count": 39,
   "id": "fc0c17d6-0b1b-4d95-9e2f-a8d0c1c92634",
   "metadata": {},
   "outputs": [
    {
     "data": {
      "text/plain": [
       "[]"
      ]
     },
     "execution_count": 39,
     "metadata": {},
     "output_type": "execute_result"
    }
   ],
   "source": [
    "guest_list"
   ]
  },
  {
   "cell_type": "code",
   "execution_count": 40,
   "id": "b31de98f-5e0b-488e-81c3-ec6c0f749ca0",
   "metadata": {},
   "outputs": [],
   "source": [
    "name_list = [ \"bisra\", \"moona\",\"saba\",\"humera\",\"bushra\",\"muzammil\"]"
   ]
  },
  {
   "cell_type": "code",
   "execution_count": 41,
   "id": "3bae4f9d-5c69-4910-97df-998ceff3e8bc",
   "metadata": {},
   "outputs": [
    {
     "name": "stdout",
     "output_type": "stream",
     "text": [
      "bisra\n"
     ]
    }
   ],
   "source": [
    "print(name_list[0])"
   ]
  },
  {
   "cell_type": "code",
   "execution_count": 42,
   "id": "7aa89a13-9008-4420-9b68-ae18b0914b47",
   "metadata": {},
   "outputs": [
    {
     "name": "stdout",
     "output_type": "stream",
     "text": [
      "muzammil\n"
     ]
    }
   ],
   "source": [
    "print(name_list[-1])"
   ]
  },
  {
   "cell_type": "markdown",
   "id": "716881b7-beb7-43d0-a9ef-ce3349842574",
   "metadata": {},
   "source": [
    "slicing"
   ]
  },
  {
   "cell_type": "code",
   "execution_count": 43,
   "id": "dd1fa57f-d0e1-4921-b095-24a6f55567bb",
   "metadata": {},
   "outputs": [
    {
     "name": "stdout",
     "output_type": "stream",
     "text": [
      "['saba', 'humera', 'bushra']\n"
     ]
    }
   ],
   "source": [
    "print(name_list[2:5])"
   ]
  },
  {
   "cell_type": "code",
   "execution_count": 44,
   "id": "003fb0c2-2975-4302-ba90-24ebf2beb158",
   "metadata": {},
   "outputs": [
    {
     "name": "stdout",
     "output_type": "stream",
     "text": [
      "['bisra', 'moona', 'saba']\n"
     ]
    }
   ],
   "source": [
    "print(name_list[:3])"
   ]
  },
  {
   "cell_type": "code",
   "execution_count": 45,
   "id": "1c5baa81-1473-445d-b9a2-e974e9da1663",
   "metadata": {},
   "outputs": [
    {
     "name": "stdout",
     "output_type": "stream",
     "text": [
      "['bushra', 'muzammil']\n"
     ]
    }
   ],
   "source": [
    "print(name_list[4:]) "
   ]
  },
  {
   "cell_type": "code",
   "execution_count": null,
   "id": "2ad7975e-b59e-4190-ac6d-b268e2fb8cd5",
   "metadata": {},
   "outputs": [],
   "source": []
  }
 ],
 "metadata": {
  "kernelspec": {
   "display_name": "Python 3 (ipykernel)",
   "language": "python",
   "name": "python3"
  },
  "language_info": {
   "codemirror_mode": {
    "name": "ipython",
    "version": 3
   },
   "file_extension": ".py",
   "mimetype": "text/x-python",
   "name": "python",
   "nbconvert_exporter": "python",
   "pygments_lexer": "ipython3",
   "version": "3.12.4"
  }
 },
 "nbformat": 4,
 "nbformat_minor": 5
}
