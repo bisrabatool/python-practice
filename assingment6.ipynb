{
 "cells": [
  {
   "cell_type": "code",
   "execution_count": 1,
   "id": "c9d7293d-d3be-4772-831a-0e5745833a94",
   "metadata": {},
   "outputs": [
    {
     "name": "stdout",
     "output_type": "stream",
     "text": [
      "111111\n",
      "11111\n",
      "1111\n",
      "111\n",
      "11\n",
      "1\n"
     ]
    }
   ],
   "source": [
    "for x in range(5, -1, -1):\n",
    "    print(\"1\" * x, end=\"\")\n",
    "    for y in range(1):\n",
    "        print(\"1\")"
   ]
  },
  {
   "cell_type": "code",
   "execution_count": 2,
   "id": "c286ca14-962a-4d2d-a580-825792927049",
   "metadata": {},
   "outputs": [
    {
     "name": "stdin",
     "output_type": "stream",
     "text": [
      " a\n"
     ]
    },
    {
     "name": "stdout",
     "output_type": "stream",
     "text": [
      "consonants\n"
     ]
    }
   ],
   "source": [
    "user_input = input(\"\")\n",
    "if user_input == (\"a\",\"e\",\"i\",\"o\",\"u\"):\n",
    "    print(\"vowel\")\n",
    "else: \n",
    "    print(\"consonants\")"
   ]
  },
  {
   "cell_type": "code",
   "execution_count": 3,
   "id": "02a57366-81d3-462e-ad88-dacddb272385",
   "metadata": {},
   "outputs": [
    {
     "name": "stdin",
     "output_type": "stream",
     "text": [
      "Input a number:  7\n"
     ]
    },
    {
     "name": "stdout",
     "output_type": "stream",
     "text": [
      "7 x 1 = 7\n",
      "7 x 2 = 14\n",
      "7 x 3 = 21\n",
      "7 x 4 = 28\n",
      "7 x 5 = 35\n",
      "7 x 6 = 42\n",
      "7 x 7 = 49\n",
      "7 x 8 = 56\n",
      "7 x 9 = 63\n",
      "7 x 10 = 70\n"
     ]
    }
   ],
   "source": [
    "table = int(input(\"Input a number: \"))\n",
    "for num in range(1, 11):\n",
    "    print(table, 'x', num, '=', table * num)"
   ]
  },
  {
   "cell_type": "code",
   "execution_count": 6,
   "id": "ba9a0944-e7bf-4f67-8ce5-096927e74ee6",
   "metadata": {},
   "outputs": [
    {
     "name": "stdin",
     "output_type": "stream",
     "text": [
      "Please enter your age (or type 'exit' to quit): 8\n"
     ]
    },
    {
     "name": "stdout",
     "output_type": "stream",
     "text": [
      "ticket price $10.\n"
     ]
    },
    {
     "name": "stdin",
     "output_type": "stream",
     "text": [
      "Please enter your age (or type 'exit' to quit): exit\n"
     ]
    },
    {
     "name": "stdout",
     "output_type": "stream",
     "text": [
      "Goodbye!\n"
     ]
    }
   ],
   "source": [
    "while True:\n",
    "    age = input(\"Please enter your age (or type 'exit' to quit):\")\n",
    "    if age.lower() == 'exit':\n",
    "        print(\"Goodbye!\")\n",
    "        break\n",
    "    if age.isdigit():\n",
    "        age = int(age)\n",
    "        if age < 3:\n",
    "            print(\"no charges\")\n",
    "        elif age <= 12:\n",
    "            print(\"ticket price $10.\")\n",
    "        else:\n",
    "            print(\" ticket price $20.\")\n",
    "    else:\n",
    "        print(\"Please enter a valid age or type 'exit' to quit.\")\n",
    "\n"
   ]
  },
  {
   "cell_type": "code",
   "execution_count": 3,
   "id": "bdce116c-44c4-41f7-91a4-5c82c5fd89df",
   "metadata": {},
   "outputs": [
    {
     "name": "stdout",
     "output_type": "stream",
     "text": [
      "The Nile runs through Egypt.\n",
      "The dariyesindh runs through pakistan.\n",
      "The ravi runs through pakistan.\n",
      "\n",
      "Names of rivers:\n",
      "Nile\n",
      "dariyesindh\n",
      "ravi\n",
      "\n",
      "Names of countries:\n",
      "Egypt\n",
      "pakistan\n",
      "pakistan\n"
     ]
    }
   ],
   "source": [
    "rivers = [\n",
    "    ('Nile', 'Egypt'),('dariyesindh', 'pakistan'), ('ravi', 'pakistan')]\n",
    "for name in rivers:\n",
    "    print(f\"The {name[0]} runs through {name[1]}.\")\n",
    "\n",
    "print(\"\\nNames of rivers:\")\n",
    "for name in rivers:\n",
    "    print(name[0])\n",
    "print(\"\\nNames of countries:\")\n",
    "for name in rivers:\n",
    "    print(name[1])\n"
   ]
  },
  {
   "cell_type": "code",
   "execution_count": null,
   "id": "0647dd19-13c2-4148-ab5b-76541c0e67a5",
   "metadata": {},
   "outputs": [],
   "source": []
  }
 ],
 "metadata": {
  "kernelspec": {
   "display_name": "Python 3 (ipykernel)",
   "language": "python",
   "name": "python3"
  },
  "language_info": {
   "codemirror_mode": {
    "name": "ipython",
    "version": 3
   },
   "file_extension": ".py",
   "mimetype": "text/x-python",
   "name": "python",
   "nbconvert_exporter": "python",
   "pygments_lexer": "ipython3",
   "version": "3.12.4"
  }
 },
 "nbformat": 4,
 "nbformat_minor": 5
}
